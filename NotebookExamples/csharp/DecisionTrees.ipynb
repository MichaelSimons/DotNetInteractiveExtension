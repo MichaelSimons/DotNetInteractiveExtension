{
  "cells": [
    {
      "cell_type": "code",
      "source": [
        "#r \"nuget:Microsoft.ML.FastTree,1.4.0-preview2\"\n",
        "#r \"nuget:Microsoft.ML.DotNet.Interactive.Extensions\"\n",
        "\n",
        "using Microsoft.ML.DotNet.Interactive;\n",
        "using Microsoft.ML;\n",
        "using Microsoft.ML.Data;\n",
        "using Microsoft.ML.Trainers.FastTree;"
      ],
      "outputs": [
        {
          "output_type": "display_data",
          "data": {
            "text/html": [
              "Installing package Microsoft.ML.FastTree, version 1.4.0-preview2............done!"
            ]
          },
          "metadata": {}
        },
        {
          "output_type": "display_data",
          "data": {
            "text/html": [
              "Successfully added reference to package Microsoft.ML.FastTree, version 1.4.0-preview2"
            ]
          },
          "metadata": {}
        },
        {
          "output_type": "display_data",
          "data": {
            "text/html": [
              "Installing package Microsoft.ML.DotNet.Interactive.Extensions....done!"
            ]
          },
          "metadata": {}
        },
        {
          "output_type": "display_data",
          "data": {
            "text/html": [
              "Successfully added reference to package Microsoft.ML.DotNet.Interactive.Extensions, version 1.0.0"
            ]
          },
          "metadata": {}
        },
        {
          "output_type": "display_data",
          "data": {
            "text/html": [
              "Loading kernel extensions in directory /home/jovyan/.nuget/packages/microsoft.ml.dotnet.interactive.extensions/1.0.0/interactive-extensions/dotnet/cs/"
            ]
          },
          "metadata": {}
        },
        {
          "output_type": "display_data",
          "data": {
            "text/html": [
              "Loading kernel extension Microsoft.ML.DotNet.Interactive.MlKernelExtension from assembly /home/jovyan/.nuget/packages/microsoft.ml.dotnet.interactive.extensions/1.0.0/interactive-extensions/dotnet/cs/Microsoft.ML.DotNet.Interactive.Extensions.dll"
            ]
          },
          "metadata": {}
        },
        {
          "output_type": "display_data",
          "data": {
            "text/html": [
              "Loaded kernel extension Microsoft.ML.DotNet.Interactive.MlKernelExtension from assembly /home/jovyan/.nuget/packages/microsoft.ml.dotnet.interactive.extensions/1.0.0/interactive-extensions/dotnet/cs/Microsoft.ML.DotNet.Interactive.Extensions.dll"
            ]
          },
          "metadata": {}
        },
        {
          "output_type": "display_data",
          "data": {
            "text/html": [
              "Loaded kernel extensions in directory /home/jovyan/.nuget/packages/microsoft.ml.dotnet.interactive.extensions/1.0.0/interactive-extensions/dotnet/cs/"
            ]
          },
          "metadata": {}
        }
      ],
      "execution_count": 1,
      "metadata": {}
    },
    {
      "cell_type": "markdown",
      "source": [
        "# Load Model\n",
        "Load the model from disk. Get the FastTree transformer from it. And get the names of each feature column."
      ],
      "metadata": {}
    },
    {
      "cell_type": "code",
      "source": [
        "MLContext mlContext = new MLContext();\n",
        "ITransformer model = mlContext.Model.Load(\"HousingTreeModel.zip\", out DataViewSchema inputSchema);\n",
        "\n",
        "DataViewSchema outputSchema = model.GetOutputSchema(inputSchema);\n",
        "\n",
        "ISingleFeaturePredictionTransformer<TreeEnsembleModelParametersBasedOnRegressionTree> predictor = ((TransformerChain<ITransformer>)model).LastTransformer as ISingleFeaturePredictionTransformer<TreeEnsembleModelParametersBasedOnRegressionTree>;\n",
        "VBuffer<ReadOnlyMemory<char>> featureNames = default;\n",
        "outputSchema[predictor.FeatureColumnName].GetSlotNames(ref featureNames);"
      ],
      "outputs": [],
      "execution_count": 2,
      "metadata": {}
    },
    {
      "cell_type": "markdown",
      "source": [
        "# Display the Tree"
      ],
      "metadata": {}
    },
    {
      "cell_type": "code",
      "source": [
        "predictor.Model.TrainedTreeEnsemble.ToDecisionTreeData(featureNames)"
      ],
      "outputs": [],
      "execution_count": null,
      "metadata": {}
    }
  ],
  "metadata": {
    "kernel_info": {
      "name": ".net-csharp"
    },
    "kernelspec": {
      "name": ".net-csharp",
      "language": "C#",
      "display_name": ".NET (C#)"
    },
    "language_info": {
      "name": "C#",
      "version": "8.0",
      "mimetype": "text/x-csharp",
      "file_extension": ".cs",
      "pygments_lexer": "csharp"
    },
    "nteract": {
      "version": "0.15.0"
    }
  },
  "nbformat": 4,
  "nbformat_minor": 2
}